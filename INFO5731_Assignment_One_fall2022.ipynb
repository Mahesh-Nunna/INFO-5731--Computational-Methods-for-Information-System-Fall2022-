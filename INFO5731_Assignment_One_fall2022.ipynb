{
  "cells": [
    {
      "cell_type": "markdown",
      "metadata": {
        "id": "view-in-github"
      },
      "source": [
        "<a href=\"https://colab.research.google.com/github/unt-iialab/INFO5731_Spring2020/blob/master/Assignments/INFO5731_Assignment_One.ipynb\" target=\"_parent\"><img src=\"https://colab.research.google.com/assets/colab-badge.svg\" alt=\"Open In Colab\"/></a>"
      ]
    },
    {
      "cell_type": "markdown",
      "metadata": {
        "id": "Ryk8D1Q4Wsrp"
      },
      "source": [
        "# **INFO5731 Assignment One**"
      ]
    },
    {
      "cell_type": "markdown",
      "metadata": {
        "id": "90_NR8c5XGWc"
      },
      "source": [
        "# Question 1\n",
        "\n",
        "(20 points). Write a Python program to generate 12 random numbers between 1 and 100. Sort the list of numbers in ascending order and print it out. Sort the list of numbers in descending order and print it out. Calculate the average for the group and print it out."
      ]
    },
    {
      "cell_type": "code",
      "execution_count": 1,
      "metadata": {
        "colab": {
          "base_uri": "https://localhost:8080/"
        },
        "id": "5QX6bJjGWXY9",
        "outputId": "fe77ef84-d987-4e7c-c41d-e92404565ef5"
      },
      "outputs": [
        {
          "output_type": "stream",
          "name": "stdout",
          "text": [
            "Random Numbers Generated are: \n",
            " [90, 88, 50, 55, 22, 2, 27, 76, 63, 7, 70, 80]\n",
            "Random Numbers in Ascending order are:\n",
            " [2, 7, 22, 27, 50, 55, 63, 70, 76, 80, 88, 90]\n",
            "Random Numbers in Descending order are:\n",
            " [90, 88, 80, 76, 70, 63, 55, 50, 27, 22, 7, 2]\n",
            "The Average of Random Numbers are: 52.5\n"
          ]
        }
      ],
      "source": [
        "# Your code here\n",
        "import random\n",
        "#importing 12 random numbers out of 100 using random \n",
        "random_num = random.sample(range(100), 12)\n",
        "print(\"Random Numbers Generated are: \\n\",random_num)\n",
        "#sorting numbers in ascending order\n",
        "random_num.sort()\n",
        "print ('Random Numbers in Ascending order are:\\n', random_num)\n",
        "#sorting numbers in decending order\n",
        "random_num.sort(reverse=True)\n",
        "print ('Random Numbers in Descending order are:\\n', random_num)\n",
        "\n",
        "#calculating Average\n",
        "avg_num = sum(random_num) / len(random_num)\n",
        "\n",
        "print('The Average of Random Numbers are:', avg_num)\n",
        "\n"
      ]
    },
    {
      "cell_type": "markdown",
      "metadata": {
        "id": "1F_PZdH9Sh49"
      },
      "source": [
        "# Question 2\n",
        "(25 points). Write a program that will do the following string formatting tasks:\n",
        "\n",
        "(1) Ask the user to enter two sentences.\n",
        "\n",
        "(2) Make each sentence into a list. Each element in the list should correspond to a word in the sentence. For example, if the sentence is \"Alas! Am I alive? This is my first python program\", the program should print out ['Alas, '!', 'Am', 'I', 'alive, '?', 'This', 'is', 'my', 'first', 'python', 'program'].\n",
        "\n",
        "(3) Compare the two sentences. Print out a list of words that occur in both sentences.\n",
        "\n",
        "(4) Remove any punctuation from the sentence and print it back out. It should remove at least the following characters, but it can remove more: period(“.”), comma (“,”), semicolon (“;”), and colon (“:”)\n",
        "\n",
        "(5) Count the number of vowels in the sentences. Print out each vowel and the number of times it appears in the sentences, such as: a:2, e:1, i:0, etc"
      ]
    },
    {
      "cell_type": "code",
      "execution_count": 2,
      "metadata": {
        "colab": {
          "base_uri": "https://localhost:8080/"
        },
        "id": "Y0oOSlsOS0cq",
        "outputId": "5ea804bd-02c2-4262-e2ce-f31b9026b6b8"
      },
      "outputs": [
        {
          "output_type": "stream",
          "name": "stdout",
          "text": [
            "Enter your 1st sentence:Hello! how are you? Have you completed the INFO5731 Assignment 1?\n",
            "Sentence 1 converted to list:\n",
            " ['Hello', '!', 'how', 'are', 'you', '?', 'Have', 'you', 'completed', 'the', 'INFO5731', 'Assignment', '1', '?']\n",
            "Enter your 2nd sentence:I'm fine! Thank you. Yes! I've completed it this morning. By the way, how are you?\n",
            "Sentence 2 converted to list:\n",
            " [\"I'm\", 'fine', '!', 'Thank', 'you', '.', 'Yes', '!', \"I've\", 'completed', 'it', 'this', 'morning', '.', 'By', 'the', 'way', ',', 'how', 'are', 'you', '?']\n"
          ]
        }
      ],
      "source": [
        "# Your code here\n",
        "import re\n",
        "sentence1=input(\"Enter your 1st sentence:\")\n",
        "\n",
        "list1= re.findall(r\"[\\w']+|[.,!?;]\", sentence1)\n",
        "print (\"Sentence 1 converted to list:\\n\",list1)\n",
        "\n",
        "sentence2=input('Enter your 2nd sentence:')\n",
        "\n",
        "list2= re.findall(r\"[\\w']+|[.,!?;]\", sentence2)\n",
        "print (\"Sentence 2 converted to list:\\n\",list2)\n"
      ]
    },
    {
      "cell_type": "code",
      "source": [
        "#Compare the two sentences. Print out a list of words that occur in both sentences.\n",
        "#using a for if loop to compare the 2 sentences\n",
        "print(\"Words that occurr in both the sentences are:\")\n",
        "[elements for elements in list2 if elements in list1 ]\n"
      ],
      "metadata": {
        "colab": {
          "base_uri": "https://localhost:8080/"
        },
        "id": "8WXWSzDCZe_Z",
        "outputId": "64d78ff7-f16c-4033-bc2c-0f019f9ebe4f"
      },
      "execution_count": 4,
      "outputs": [
        {
          "output_type": "stream",
          "name": "stdout",
          "text": [
            "Words that occurr in both the sentences are:\n"
          ]
        },
        {
          "output_type": "execute_result",
          "data": {
            "text/plain": [
              "['!', 'you', '!', 'completed', 'the', 'how', 'are', 'you', '?']"
            ]
          },
          "metadata": {},
          "execution_count": 4
        }
      ]
    },
    {
      "cell_type": "code",
      "source": [
        "#Remove any punctuation from the sentence \n",
        "punctuations = '''!()-[]{};:'\"\\,<>./?@#$%^&*_~'''\n",
        "lis_words = \"\"\n",
        "combine_sen = sentence1, sentence2\n",
        "print(\"Printing the sentence without the Punctuations:\\n\")\n",
        "for sen in combine_sen:\n",
        "  for char in sen:\n",
        "    if char not in punctuations:\n",
        "         lis_words = lis_words + char\n",
        "  print(lis_words)\n",
        "  lis_words = \"\"\n"
      ],
      "metadata": {
        "colab": {
          "base_uri": "https://localhost:8080/"
        },
        "id": "t-PFFI_-dY3m",
        "outputId": "b6b7fb3c-e305-4989-c12b-2271e1eb0a59"
      },
      "execution_count": 5,
      "outputs": [
        {
          "output_type": "stream",
          "name": "stdout",
          "text": [
            "Printing the sentence without the Punctuations:\n",
            "\n",
            "Hello how are you Have you completed the INFO5731 Assignment 1\n",
            "Im fine Thank you Yes Ive completed it this morning By the way how are you\n"
          ]
        }
      ]
    },
    {
      "cell_type": "code",
      "source": [
        "#Print out each vowel and the number of times it appears in the sentences\n",
        "vowels = 'aeiou'\n",
        "\n",
        "count_vowels = {}.fromkeys(vowels,0)\n",
        "\n",
        "sentences = sentence1, sentence2\n",
        "for i in sentences:\n",
        "  for char1 in i:\n",
        "     if char1 in count_vowels:\n",
        "         count_vowels[char1] += 1\n",
        "\n",
        "print(\"Printing count of each vowel in both the sentences:\\n\", count_vowels)\n"
      ],
      "metadata": {
        "colab": {
          "base_uri": "https://localhost:8080/"
        },
        "id": "w3S3su-gfwZj",
        "outputId": "9f5c5f73-7b35-4195-e5ba-4ed9ff8ae8d5"
      },
      "execution_count": 7,
      "outputs": [
        {
          "output_type": "stream",
          "name": "stdout",
          "text": [
            "Printing count of each vowel in both the sentences:\n",
            " {'a': 5, 'e': 14, 'i': 5, 'o': 10, 'u': 4}\n"
          ]
        }
      ]
    },
    {
      "cell_type": "markdown",
      "metadata": {
        "id": "CmFoI4jDS9nx"
      },
      "source": [
        "# Question 3 \n",
        "\n",
        "(15 points). The formula that describes the volume V of a sphere with radius r is the following:\n",
        "\n",
        "$ V=\\frac{4}{3}\\ast\\ \\pi\\ast\\ r^3 $\n",
        "\n",
        "Write a program to calculate the value of V when r is in the range of 1–10. Output the result in the following format:\n",
        "\n",
        "\tr\tV\n",
        "\t1\t…\n",
        "\t2\t…\n",
        "\t3\t…\n"
      ]
    },
    {
      "cell_type": "code",
      "execution_count": 8,
      "metadata": {
        "colab": {
          "base_uri": "https://localhost:8080/"
        },
        "id": "pEyqeioAT95b",
        "outputId": "3b959d45-e6a2-4c9e-f075-212019c366d6"
      },
      "outputs": [
        {
          "output_type": "stream",
          "name": "stdout",
          "text": [
            "r V\n",
            "1 4.1887902047863905\n",
            "2 33.510321638291124\n",
            "3 113.09733552923254\n",
            "4 268.082573106329\n",
            "5 523.5987755982989\n",
            "6 904.7786842338603\n",
            "7 1436.7550402417319\n",
            "8 2144.660584850632\n",
            "9 3053.6280592892786\n",
            "10 4188.790204786391\n"
          ]
        }
      ],
      "source": [
        "# Your code here\n",
        "\n",
        "import math\n",
        "print(\"r\",\"V\")\n",
        "for r in range(1,11):\n",
        "    v = (4/3)*math.pi*math.pow(r,3)\n",
        "    print(r,v)   "
      ]
    },
    {
      "cell_type": "markdown",
      "metadata": {
        "id": "z3tBE7E-Xn5X"
      },
      "source": [
        "# Question 4\n",
        "\n",
        "(40 points). In the field of Data Science, data is often formatted as a comma-delimited (CSV) file, where each line in a file corresponds to a field's value. Refer to Chapter 9 (p. 106) for more information on comma-delimited files. To answer this question, you will need to download the file [Assignment1_denton_housing.csv](https://raw.githubusercontent.com/unt-iialab/info5731-spring2022/main/assignments/Assignment1_denton_housing.csv) included with this assignment. The file [Assignment1_denton_housing.csv](https://raw.githubusercontent.com/unt-iialab/info5731-spring2022/main/assignments/Assignment1_denton_housing.csv) contains statistics about housing in the city of Denton from 2008 to 2014. Write a program to implement the following questions.\n",
        "\n",
        "(1) (10 pts) Calculate the difference in the number of Occupied Housing Units from year to year and print it. The difference must be calculated for the consecutive years such as 2008-2009, 2009-2010 etc. Finally, print the values in the ascending order.\n",
        "\n",
        "(2) (10 pts) For all the years, calculate the percentage of housing units which are vacant an occupied. Print the results in the following format:\n",
        "\n",
        "Year Vacant Housing Units Occupied Housing Units\n",
        "\n",
        "    2008  30%   70%                          \n",
        "\t2009 ----- -----\n",
        "\t2010 ----- -----\n",
        "    2011 ----- -----\n",
        "\t2012 ----- -----\n",
        "    2013 ----- -----\n",
        "\t2014 ----- -----\n",
        "  \n",
        "  \n",
        "\n",
        "(3) (10 pts) Calculate and print the valued and years in which the highest number of housing units were vacant and occupied. Print the results in the following format:  \n",
        "\n",
        "                              Year\tValue\n",
        "\tVacant Housing Units\t  -----   -----\n",
        "\tOccupied Housing Units\t-----   -----\n",
        "\n",
        "(4) (10 pts) Calculate the harmonic mean of the total housing units and print it out. You can find the information about harmonic mean here: https://ncalculators.com/statistics/harmonic-mean-calculator.htm"
      ]
    },
    {
      "cell_type": "code",
      "execution_count": 10,
      "metadata": {
        "id": "lqGYuHBhcsRH",
        "colab": {
          "base_uri": "https://localhost:8080/",
          "height": 74
        },
        "outputId": "910b7061-e703-4d9a-8a3c-84ee478f5b51"
      },
      "outputs": [
        {
          "output_type": "display_data",
          "data": {
            "text/plain": [
              "<IPython.core.display.HTML object>"
            ],
            "text/html": [
              "\n",
              "     <input type=\"file\" id=\"files-83ecd23e-ef6c-4012-acda-e4bca3da7016\" name=\"files[]\" multiple disabled\n",
              "        style=\"border:none\" />\n",
              "     <output id=\"result-83ecd23e-ef6c-4012-acda-e4bca3da7016\">\n",
              "      Upload widget is only available when the cell has been executed in the\n",
              "      current browser session. Please rerun this cell to enable.\n",
              "      </output>\n",
              "      <script>// Copyright 2017 Google LLC\n",
              "//\n",
              "// Licensed under the Apache License, Version 2.0 (the \"License\");\n",
              "// you may not use this file except in compliance with the License.\n",
              "// You may obtain a copy of the License at\n",
              "//\n",
              "//      http://www.apache.org/licenses/LICENSE-2.0\n",
              "//\n",
              "// Unless required by applicable law or agreed to in writing, software\n",
              "// distributed under the License is distributed on an \"AS IS\" BASIS,\n",
              "// WITHOUT WARRANTIES OR CONDITIONS OF ANY KIND, either express or implied.\n",
              "// See the License for the specific language governing permissions and\n",
              "// limitations under the License.\n",
              "\n",
              "/**\n",
              " * @fileoverview Helpers for google.colab Python module.\n",
              " */\n",
              "(function(scope) {\n",
              "function span(text, styleAttributes = {}) {\n",
              "  const element = document.createElement('span');\n",
              "  element.textContent = text;\n",
              "  for (const key of Object.keys(styleAttributes)) {\n",
              "    element.style[key] = styleAttributes[key];\n",
              "  }\n",
              "  return element;\n",
              "}\n",
              "\n",
              "// Max number of bytes which will be uploaded at a time.\n",
              "const MAX_PAYLOAD_SIZE = 100 * 1024;\n",
              "\n",
              "function _uploadFiles(inputId, outputId) {\n",
              "  const steps = uploadFilesStep(inputId, outputId);\n",
              "  const outputElement = document.getElementById(outputId);\n",
              "  // Cache steps on the outputElement to make it available for the next call\n",
              "  // to uploadFilesContinue from Python.\n",
              "  outputElement.steps = steps;\n",
              "\n",
              "  return _uploadFilesContinue(outputId);\n",
              "}\n",
              "\n",
              "// This is roughly an async generator (not supported in the browser yet),\n",
              "// where there are multiple asynchronous steps and the Python side is going\n",
              "// to poll for completion of each step.\n",
              "// This uses a Promise to block the python side on completion of each step,\n",
              "// then passes the result of the previous step as the input to the next step.\n",
              "function _uploadFilesContinue(outputId) {\n",
              "  const outputElement = document.getElementById(outputId);\n",
              "  const steps = outputElement.steps;\n",
              "\n",
              "  const next = steps.next(outputElement.lastPromiseValue);\n",
              "  return Promise.resolve(next.value.promise).then((value) => {\n",
              "    // Cache the last promise value to make it available to the next\n",
              "    // step of the generator.\n",
              "    outputElement.lastPromiseValue = value;\n",
              "    return next.value.response;\n",
              "  });\n",
              "}\n",
              "\n",
              "/**\n",
              " * Generator function which is called between each async step of the upload\n",
              " * process.\n",
              " * @param {string} inputId Element ID of the input file picker element.\n",
              " * @param {string} outputId Element ID of the output display.\n",
              " * @return {!Iterable<!Object>} Iterable of next steps.\n",
              " */\n",
              "function* uploadFilesStep(inputId, outputId) {\n",
              "  const inputElement = document.getElementById(inputId);\n",
              "  inputElement.disabled = false;\n",
              "\n",
              "  const outputElement = document.getElementById(outputId);\n",
              "  outputElement.innerHTML = '';\n",
              "\n",
              "  const pickedPromise = new Promise((resolve) => {\n",
              "    inputElement.addEventListener('change', (e) => {\n",
              "      resolve(e.target.files);\n",
              "    });\n",
              "  });\n",
              "\n",
              "  const cancel = document.createElement('button');\n",
              "  inputElement.parentElement.appendChild(cancel);\n",
              "  cancel.textContent = 'Cancel upload';\n",
              "  const cancelPromise = new Promise((resolve) => {\n",
              "    cancel.onclick = () => {\n",
              "      resolve(null);\n",
              "    };\n",
              "  });\n",
              "\n",
              "  // Wait for the user to pick the files.\n",
              "  const files = yield {\n",
              "    promise: Promise.race([pickedPromise, cancelPromise]),\n",
              "    response: {\n",
              "      action: 'starting',\n",
              "    }\n",
              "  };\n",
              "\n",
              "  cancel.remove();\n",
              "\n",
              "  // Disable the input element since further picks are not allowed.\n",
              "  inputElement.disabled = true;\n",
              "\n",
              "  if (!files) {\n",
              "    return {\n",
              "      response: {\n",
              "        action: 'complete',\n",
              "      }\n",
              "    };\n",
              "  }\n",
              "\n",
              "  for (const file of files) {\n",
              "    const li = document.createElement('li');\n",
              "    li.append(span(file.name, {fontWeight: 'bold'}));\n",
              "    li.append(span(\n",
              "        `(${file.type || 'n/a'}) - ${file.size} bytes, ` +\n",
              "        `last modified: ${\n",
              "            file.lastModifiedDate ? file.lastModifiedDate.toLocaleDateString() :\n",
              "                                    'n/a'} - `));\n",
              "    const percent = span('0% done');\n",
              "    li.appendChild(percent);\n",
              "\n",
              "    outputElement.appendChild(li);\n",
              "\n",
              "    const fileDataPromise = new Promise((resolve) => {\n",
              "      const reader = new FileReader();\n",
              "      reader.onload = (e) => {\n",
              "        resolve(e.target.result);\n",
              "      };\n",
              "      reader.readAsArrayBuffer(file);\n",
              "    });\n",
              "    // Wait for the data to be ready.\n",
              "    let fileData = yield {\n",
              "      promise: fileDataPromise,\n",
              "      response: {\n",
              "        action: 'continue',\n",
              "      }\n",
              "    };\n",
              "\n",
              "    // Use a chunked sending to avoid message size limits. See b/62115660.\n",
              "    let position = 0;\n",
              "    do {\n",
              "      const length = Math.min(fileData.byteLength - position, MAX_PAYLOAD_SIZE);\n",
              "      const chunk = new Uint8Array(fileData, position, length);\n",
              "      position += length;\n",
              "\n",
              "      const base64 = btoa(String.fromCharCode.apply(null, chunk));\n",
              "      yield {\n",
              "        response: {\n",
              "          action: 'append',\n",
              "          file: file.name,\n",
              "          data: base64,\n",
              "        },\n",
              "      };\n",
              "\n",
              "      let percentDone = fileData.byteLength === 0 ?\n",
              "          100 :\n",
              "          Math.round((position / fileData.byteLength) * 100);\n",
              "      percent.textContent = `${percentDone}% done`;\n",
              "\n",
              "    } while (position < fileData.byteLength);\n",
              "  }\n",
              "\n",
              "  // All done.\n",
              "  yield {\n",
              "    response: {\n",
              "      action: 'complete',\n",
              "    }\n",
              "  };\n",
              "}\n",
              "\n",
              "scope.google = scope.google || {};\n",
              "scope.google.colab = scope.google.colab || {};\n",
              "scope.google.colab._files = {\n",
              "  _uploadFiles,\n",
              "  _uploadFilesContinue,\n",
              "};\n",
              "})(self);\n",
              "</script> "
            ]
          },
          "metadata": {}
        },
        {
          "output_type": "stream",
          "name": "stdout",
          "text": [
            "Saving Assignment1_denton_housing.csv to Assignment1_denton_housing.csv\n"
          ]
        }
      ],
      "source": [
        "# Your code here\n",
        "#Importing the pandaas and reading the csv file\n",
        "import pandas as pd\n",
        "\n",
        "from google.colab import files\n",
        "uploaded = files.upload()"
      ]
    },
    {
      "cell_type": "code",
      "source": [
        "housing_data = pd.read_csv(\"Assignment1_denton_housing.csv\")\n",
        "print(housing_data)"
      ],
      "metadata": {
        "colab": {
          "base_uri": "https://localhost:8080/"
        },
        "id": "Lm68nbqn_tB1",
        "outputId": "0dc6b717-d3eb-4533-8447-f5abf5b52c3a"
      },
      "execution_count": 17,
      "outputs": [
        {
          "output_type": "stream",
          "name": "stdout",
          "text": [
            "    year             title_field  value\n",
            "0   2014     Total Housing Units  49109\n",
            "1   2014    Vacant Housing Units   2814\n",
            "2   2014  Occupied Housing Units  46295\n",
            "3   2013     Total Housing Units  47888\n",
            "4   2013    Vacant Housing Units   4215\n",
            "5   2013  Occupied Housing Units  43673\n",
            "6   2012     Total Housing Units  45121\n",
            "7   2012    Vacant Housing Units   3013\n",
            "8   2012  Occupied Housing Units  42108\n",
            "9   2011     Total Housing Units  44917\n",
            "10  2011    Vacant Housing Units   4213\n",
            "11  2011  Occupied Housing Units  40704\n",
            "12  2010     Total Housing Units  44642\n",
            "13  2010    Vacant Housing Units   3635\n",
            "14  2010  Occupied Housing Units  41007\n",
            "15  2009     Total Housing Units  39499\n",
            "16  2009    Vacant Housing Units   3583\n",
            "17  2009  Occupied Housing Units  35916\n",
            "18  2008     Total Housing Units  41194\n",
            "19  2008    Vacant Housing Units   4483\n",
            "20  2008  Occupied Housing Units  36711\n",
            "21  2014          Owner Occupied  21427\n",
            "22  2014         Renter Occupied  24868\n",
            "23  2013          Owner Occupied  20845\n",
            "24  2013         Renter Occupied  22828\n",
            "25  2012          Owner Occupied  20068\n",
            "26  2012         Renter Occupied  22040\n",
            "27  2011          Owner Occupied  18478\n",
            "28  2011         Renter Occupied  22226\n",
            "29  2010          Owner Occupied  18867\n",
            "30  2010         Renter Occupied  22140\n",
            "31  2009          Owner Occupied  18057\n",
            "32  2009         Renter Occupied  17859\n",
            "33  2008          Owner Occupied  17340\n",
            "34  2008         Renter Occupied  19371\n",
            "35  2014       Median Gross Rent    905\n",
            "36  2013       Median Gross Rent    887\n",
            "37  2012       Median Gross Rent    842\n",
            "38  2011       Median Gross Rent    821\n",
            "39  2010       Median Gross Rent    780\n",
            "40  2009       Median Gross Rent    769\n",
            "41  2008       Median Gross Rent    768\n"
          ]
        }
      ]
    },
    {
      "cell_type": "code",
      "source": [
        "#4.1\n",
        "housing_data = housing_data[housing_data.title_field == 'Occupied Housing Units' ]\n",
        "housing_data = housing_data.value\n",
        "housing_data.diff().sort_values()"
      ],
      "metadata": {
        "colab": {
          "base_uri": "https://localhost:8080/"
        },
        "id": "DLMT-LXr_4RF",
        "outputId": "cb2379b7-7d98-4f62-98f4-78c80ab13899"
      },
      "execution_count": 18,
      "outputs": [
        {
          "output_type": "execute_result",
          "data": {
            "text/plain": [
              "17   -5091.0\n",
              "5    -2622.0\n",
              "8    -1565.0\n",
              "11   -1404.0\n",
              "14     303.0\n",
              "20     795.0\n",
              "2        NaN\n",
              "Name: value, dtype: float64"
            ]
          },
          "metadata": {},
          "execution_count": 18
        }
      ]
    },
    {
      "cell_type": "code",
      "source": [
        "#4.2\n",
        "housing_data = pd.read_csv(\"Assignment1_denton_housing.csv\")\n",
        "occupied_house = housing_data[housing_data['title_field'] == 'Occupied Housing Units'].sort_values(by = ['year'])\n",
        "vacant_house = housing_data[housing_data['title_field'] == 'Vacant Housing Units'].sort_values(by = ['year'])\n",
        "housing_merged = pd.merge(occupied_house,vacant_house,on=['year'])\n",
        "housing_merged['occupied_housing_per'] = (housing_merged['value_x']/(housing_merged['value_x']+housing_merged['value_y']))*100\n",
        "housing_merged['vacant_housing_per'] = (housing_merged['value_y']/(housing_merged['value_x']+housing_merged['value_y']))*100\n",
        "\n",
        "final_housing = housing_merged[['year','occupied_housing_per','vacant_housing_per']]\n",
        "print(final_housing)"
      ],
      "metadata": {
        "colab": {
          "base_uri": "https://localhost:8080/"
        },
        "id": "lyrUJab5BLbm",
        "outputId": "e541f947-167d-4ec1-d6b5-98baa9ad5ae1"
      },
      "execution_count": 25,
      "outputs": [
        {
          "output_type": "stream",
          "name": "stdout",
          "text": [
            "   year  occupied_housing_per  vacant_housing_per\n",
            "0  2008             89.117347           10.882653\n",
            "1  2009             90.928884            9.071116\n",
            "2  2010             91.857444            8.142556\n",
            "3  2011             90.620478            9.379522\n",
            "4  2012             93.322400            6.677600\n",
            "5  2013             91.198212            8.801788\n",
            "6  2014             94.269889            5.730111\n"
          ]
        }
      ]
    },
    {
      "cell_type": "code",
      "source": [
        "#4.3\n",
        "housing_data = pd.read_csv(\"Assignment1_denton_housing.csv\")\n",
        "\n",
        "occupied_max = housing_data.loc[housing_data['title_field'] == 'Occupied Housing Units','value'].max()\n",
        "housing_result1 = housing_data.loc[housing_data['value'] == occupied_max]\n",
        "\n",
        "final_housing_table1 = housing_result1[['title_field', 'year', 'value']]\n",
        "vaccant_max = housing_data.loc[housing_data['title_field'] == 'Vacant Housing Units','value'].max()\n",
        "\n",
        "housing_result2 = housing_data.loc[housing_data['value'] == vaccant_max]\n",
        "final_housing_table2 = housing_result2[['title_field', 'year', 'value']]\n",
        "                                       \n",
        "housing_table_final = pd.concat([final_housing_table2, final_housing_table1])\n",
        "print (housing_table_final)"
      ],
      "metadata": {
        "colab": {
          "base_uri": "https://localhost:8080/"
        },
        "id": "vmHmau_eDX6R",
        "outputId": "b05673e1-6528-4ab1-e7c3-cc5f5a48d85b"
      },
      "execution_count": 29,
      "outputs": [
        {
          "output_type": "stream",
          "name": "stdout",
          "text": [
            "               title_field  year  value\n",
            "19    Vacant Housing Units  2008   4483\n",
            "2   Occupied Housing Units  2014  46295\n"
          ]
        }
      ]
    },
    {
      "cell_type": "code",
      "source": [
        "#4.4\n",
        "import statistics\n",
        "\n",
        "housing_data = pd.read_csv(\"Assignment1_denton_housing.csv\")\n",
        "housing_elements = housing_data.loc[housing_data['title_field'] == 'Total Housing Units', 'value'].values\n",
        "\n",
        "print(\"The harmonic mean of the total housing units:\", statistics.harmonic_mean(housing_elements))"
      ],
      "metadata": {
        "colab": {
          "base_uri": "https://localhost:8080/"
        },
        "id": "bbNGrZqmFwJl",
        "outputId": "68931bce-1356-40d9-ccb8-45599f10e90b"
      },
      "execution_count": 33,
      "outputs": [
        {
          "output_type": "stream",
          "name": "stdout",
          "text": [
            "The harmonic mean of the total housing units: 44398.28543969185\n"
          ]
        }
      ]
    }
  ],
  "metadata": {
    "colab": {
      "collapsed_sections": [],
      "provenance": []
    },
    "kernelspec": {
      "display_name": "Python 3 (ipykernel)",
      "language": "python",
      "name": "python3"
    },
    "language_info": {
      "codemirror_mode": {
        "name": "ipython",
        "version": 3
      },
      "file_extension": ".py",
      "mimetype": "text/x-python",
      "name": "python",
      "nbconvert_exporter": "python",
      "pygments_lexer": "ipython3",
      "version": "3.9.12"
    }
  },
  "nbformat": 4,
  "nbformat_minor": 0
}